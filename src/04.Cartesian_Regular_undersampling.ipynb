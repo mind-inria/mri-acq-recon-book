{
 "cells": [
  {
   "cell_type": "markdown",
   "id": "33e8a386",
   "metadata": {},
   "source": [
    "# Fourth exercice:  Cartesian perodic under-sampling along parallel lines\n",
    "\n",
    "Here the goal is to illustrate the typical artifacts of standard\n",
    "**deterministic** **regular** (or **periodic**) undersampling along the phase\n",
    "encoding direction (here $k_y$) used in parallel imaging. Below we illustrate\n",
    "the following cases:\n",
    "1. full Cartesian sampling $R= n/m = 1$ where $n=N^2$ is the image size, $N$ the image dimension and $m$ the number of measurements in k-space:\n",
    "2. undersampling with a factor $R=2$\n",
    "3. undersampling with a factor $R=4$\n",
    "4. undersampling with a factor $R=8$\n",
    "\n",
    "\n",
    "- Author: Philippe Ciuciu (philippe.ciuciu@cea.fr)\n",
    "- Date: 06/24/2022\n",
    "- Target: [IEEE EMBS-SPS Summer School](http://conferences.imt-atlantique.fr/ieeess/index.php?pid=1) on **Novel acquisition and image reconstruction strategies in accelerated Magnetic Resonance Imaging**"
   ]
  },
  {
   "cell_type": "code",
   "execution_count": null,
   "id": "47dc23ca",
   "metadata": {},
   "outputs": [],
   "source": [
    "#DISPLAY BRAIN PHANTOM\n",
    "%matplotlib inline\n",
    "\n",
    "import numpy as np\n",
    "import os.path as op\n",
    "import os\n",
    "import math ; import cmath\n",
    "import matplotlib.pyplot as plt\n",
    "import sys\n",
    "\n",
    "from skimage import data, io, filters\n",
    "#get current working dir\n",
    "cwd = os.getcwd()\n",
    "#cwd= \"/\"\n",
    "dirimg_2d = op.join(cwd,\"..\", \"data\")\n",
    "img_size = 512   #256\n",
    "FOV = 0.2 #field of view in meters\n",
    "pixelSize = FOV/img_size\n",
    "\n",
    "#load data file corresponding to the target resolution\n",
    "filename = \"BrainPhantom\" + str(img_size) + \".png\"\n",
    "mri_filename = op.join(dirimg_2d, filename)\n",
    "mri_img = io.imread(mri_filename, as_gray=True)\n",
    "plt.figure()\n",
    "plt.title(\"Brain Phantom, size = \"+ str(img_size))\n",
    "if mri_img.ndim == 2:\n",
    "    plt.imshow(mri_img, cmap=plt.cm.gray)\n",
    "else:\n",
    "    plt.imshow(mri_img)\n",
    "plt.show()"
   ]
  },
  {
   "cell_type": "code",
   "execution_count": null,
   "id": "7d453ec1",
   "metadata": {
    "lines_to_next_cell": 2
   },
   "outputs": [],
   "source": [
    "kspace_mask_full = np.ones((img_size, img_size), dtype=\"float64\")\n",
    "\n",
    "#import numpy.fft as fft\n",
    "norm = \"ortho\"\n",
    "def fft(x):\n",
    "    return np.fft.fft2(x, norm=norm)\n",
    "\n",
    "def ifft(x):\n",
    "    return np.fft.ifft2(x, norm=norm)\n",
    "\n",
    "# Generate the subsampled kspace with R=2\n",
    "kspace_data = np.fft.fftshift(fft(mri_img))   # put the 0-freq in the middle of axes as\n",
    "\n",
    "# Generate the kspace data: first Fourier transform the image\n",
    "kspace_data = np.fft.fftshift(fft(mri_img))\n",
    "#add Gaussian complex-valued random noise\n",
    "signoise = 10\n",
    "#kspace_data += np.random.randn(*mri_img.shape) * signoise * (1+1j)\n",
    "# Simulate independent noise realization on the real & imag parts\n",
    "kspace_data += (np.random.randn(*mri_img.shape) + 1j * np.random.randn(*mri_img.shape)) * signoise\n",
    "# Mask data to perform subsampling\n",
    "kspace_data *= kspace_mask_full\n",
    "\n",
    "# Zero order solution\n",
    "image_rec0 = ifft(np.fft.ifftshift(kspace_data))\n",
    "\n",
    "fig, axs = plt.subplots(1, 3, figsize=(8, 8) )\n",
    "axs[0].imshow(kspace_mask_full, cmap='gray_r')\n",
    "axs[0].set_title(\"Full Cartesian mask (R=1)\")\n",
    "axs[1].imshow(np.abs(kspace_data),  cmap='gray_r', vmax=.01*np.abs(kspace_data).max())\n",
    "axs[1].set_title(\"Masked data\")\n",
    "axs[2].imshow(np.abs(image_rec0), cmap='gray')\n",
    "axs[2].set_title(\"Cartesian recon\")"
   ]
  },
  {
   "cell_type": "code",
   "execution_count": null,
   "id": "7dac3bf6",
   "metadata": {
    "lines_to_next_cell": 2
   },
   "outputs": [],
   "source": [
    "import numpy.matlib as mlib\n",
    "\n",
    "# generate Cartesian lines in a straightforward manner\n",
    "#a = (np.linspace(0,img_size,img_size+1))/img_size -0.5    # work in normalized frequency\n",
    "r2 = (int)(img_size/2)\n",
    "r4 = (int)(img_size/4)\n",
    "r8 = (int)(img_size/8)\n",
    "print(\"2-fold undersampling, m= \", r2)\n",
    "print(\"4-fold undersampling, m= \", r4)\n",
    "print(\"8-fold undersampling, m= \", r8)\n",
    "\n",
    "selected_ksp_line = np.ones((1, img_size), dtype=\"float64\")\n",
    "skipped_ksp_line = np.zeros((1, img_size), dtype=\"float64\")\n",
    "k_space_pattern_r2 = np.concatenate((selected_ksp_line, skipped_ksp_line), axis=0)\n",
    "kspace_mask_r2 = np.tile(k_space_pattern_r2, (r2, 1))\n",
    "\n",
    "#k_space_pattern_r4 = np.concatenate((selected_ksp_line, skipped_ksp_line, skipped_ksp_line,skipped_ksp_line), axis=0)\n",
    "k_space_pattern_r4 = np.concatenate((selected_ksp_line, np.tile(skipped_ksp_line, (3,1))), axis=0)\n",
    "kspace_mask_r4 = np.tile(k_space_pattern_r4, (r4, 1))\n",
    "\n",
    "k_space_pattern_r8 = np.concatenate((selected_ksp_line, np.tile(skipped_ksp_line, (7,1))), axis=0)\n",
    "kspace_mask_r8 = np.tile(k_space_pattern_r8, (r8, 1))\n",
    "\n",
    "\n",
    "fig, axs = plt.subplots(1, 3, figsize=(16, 16) )\n",
    "axs[0].imshow(kspace_mask_r2) #, cmap='Greys_r'\n",
    "axs[0].set_title(\"Cartesian regular under-sampling mask (R=2)\")\n",
    "axs[1].imshow(kspace_mask_r4, cmap='Greys_r')\n",
    "axs[1].set_title(\"Cartesian regular under-sampling mask (R=4)\")\n",
    "axs[2].imshow(kspace_mask_r8, cmap='Greys_r')\n",
    "axs[2].set_title(\"Cartesian regular under-sampling mask (R=8)\")"
   ]
  },
  {
   "cell_type": "markdown",
   "id": "ed243cc5",
   "metadata": {},
   "source": [
    "* Generate undersampled data for $R=2$ and perform image reconstruction\n",
    "* What do you observe?"
   ]
  },
  {
   "cell_type": "code",
   "execution_count": null,
   "id": "7e9ca1a0",
   "metadata": {
    "lines_to_next_cell": 2
   },
   "outputs": [],
   "source": [
    "# Generate the kspace data: first Fourier transform the image\n",
    "kspace_data_r2 = np.fft.fftshift(fft(mri_img))\n",
    "#add Gaussian complex-valued random noise\n",
    "signoise = 10\n",
    "# Simulate independent noise realization on the real & imag parts\n",
    "kspace_data_r2 += (np.random.randn(*mri_img.shape) + 1j * np.random.randn(*mri_img.shape)) * signoise\n",
    "\n",
    "# Mask data to perform subsampling\n",
    "kspace_data_r2 *= kspace_mask_r2\n",
    "\n",
    "# Zero order image reconstruction\n",
    "image_rec0_r2 = ifft(np.fft.ifftshift(kspace_data_r2))\n",
    "\n",
    "fig, axs = plt.subplots(2, 2, figsize=(10, 10) )\n",
    "axs[0,0].imshow(mri_img, cmap='Greys_r')\n",
    "axs[0,0].set_title(\"True image\")\n",
    "axs[0,1].imshow(kspace_mask_r2, cmap='Greys_r')\n",
    "axs[0,1].set_title(\"Sampling mask\")\n",
    "axs[1,0].imshow(np.abs(kspace_data_r2),  cmap='gray', vmax=0.01*np.abs(kspace_data_r2).max())\n",
    "#axs[1].imshow(np.abs(np.fft.ifftshift(kspace_data)), cmap='Greys_r')\n",
    "axs[1,0].set_title(\"k-space noisy data (R=2)\")\n",
    "axs[1,1].imshow(np.abs(image_rec0_r2), cmap='gray')\n",
    "axs[1,1].set_title(\"Zero-order recon\")\n",
    "plt.show()"
   ]
  },
  {
   "cell_type": "markdown",
   "id": "6e1c9435",
   "metadata": {},
   "source": [
    "* Generate undersampled data for $R=4$ and perform image reconstruction\n",
    "* What do you observe?"
   ]
  },
  {
   "cell_type": "code",
   "execution_count": null,
   "id": "b24293b9",
   "metadata": {
    "lines_to_next_cell": 2
   },
   "outputs": [],
   "source": [
    "# Generate the kspace data: first Fourier transform the image\n",
    "kspace_data_r4 = np.fft.fftshift(fft(mri_img))\n",
    "#add Gaussian complex-valued random noise\n",
    "signoise = 10\n",
    "# Simulate independent noise realization on the real & imag parts\n",
    "kspace_data_r4 += (np.random.randn(*mri_img.shape) + 1j * np.random.randn(*mri_img.shape)) * signoise\n",
    "# Mask data to perform subsampling\n",
    "kspace_data_r4 *= kspace_mask_r4\n",
    "\n",
    "# Zero order image reconstruction\n",
    "image_rec0_r4 = ifft(np.fft.ifftshift(kspace_data_r4))\n",
    "\n",
    "fig, axs = plt.subplots(2, 2, figsize=(10, 10) )\n",
    "axs[0,0].imshow(mri_img, cmap='Greys_r')\n",
    "axs[0,0].set_title(\"True image\")\n",
    "axs[0,1].imshow(kspace_mask_r4, cmap='Greys_r')\n",
    "axs[0,1].set_title(\"Sampling mask\")\n",
    "axs[1,0].imshow(np.abs(kspace_data_r4),  cmap='gray', vmax=0.01*np.abs(kspace_data_r4).max())\n",
    "axs[1,0].set_title(\"k-space noisy data (USF=2)\")\n",
    "axs[1,1].imshow(np.abs(image_rec0_r4), cmap='Greys_r')\n",
    "axs[1,1].set_title(\"Zero-order recon\")\n",
    "plt.show()"
   ]
  },
  {
   "cell_type": "markdown",
   "id": "4db27a3c",
   "metadata": {},
   "source": [
    "* Generate undersampled data for $R=8$ and perform image reconstruction\n",
    "* What do you observe?"
   ]
  },
  {
   "cell_type": "code",
   "execution_count": null,
   "id": "9b6b6f90",
   "metadata": {
    "lines_to_next_cell": 2
   },
   "outputs": [],
   "source": [
    "# Generate the kspace data: first Fourier transform the image\n",
    "kspace_data_r8 = np.fft.fftshift(fft(mri_img))\n",
    "#add Gaussian complex-valued random noise\n",
    "signoise = 10\n",
    "# Simulate independent noise realization on the real & imag parts\n",
    "kspace_data_r8 += (np.random.randn(*mri_img.shape) + 1j * np.random.randn(*mri_img.shape)) * signoise\n",
    "# Mask data to perform subsampling\n",
    "kspace_data_r8 *= kspace_mask_r8\n",
    "\n",
    "# Zero order image reconstruction\n",
    "image_rec0_r8 = ifft(np.fft.ifftshift(kspace_data_r8))\n",
    "\n",
    "fig, axs = plt.subplots(2, 2, figsize=(10, 10) )\n",
    "axs[0,0].imshow(mri_img, cmap='Greys_r')\n",
    "axs[0,0].set_title(\"True image\")\n",
    "axs[0,1].imshow(kspace_mask_r8, cmap='Greys_r')\n",
    "axs[0,1].set_title(\"Sampling mask\")\n",
    "axs[1,0].imshow(np.abs(kspace_data_r8),  cmap='gray', vmax=0.01*np.abs(kspace_data_r4).max())\n",
    "axs[1,0].set_title(\"k-space noisy data (USF=2)\")\n",
    "axs[1,1].imshow(np.abs(image_rec0_r8), cmap='Greys_r')\n",
    "axs[1,1].set_title(\"Zero-order recon\")\n",
    "plt.show()"
   ]
  },
  {
   "cell_type": "markdown",
   "id": "bc208c14",
   "metadata": {},
   "source": [
    "<div class=\"alert alert-success\">\n",
    "    <b>QUESTION</b>:\n",
    "     <ul>\n",
    "      <li>Do you know what key ingredient may help to recover the reference image pretty well while still using these regular under-sampling patterns? </li>\n",
    "    </ul>\n",
    "</div>\n"
   ]
  }
 ],
 "metadata": {
  "kernelspec": {
   "display_name": "Python 3 (ipykernel)",
   "language": "python",
   "name": "python3"
  }
 },
 "nbformat": 4,
 "nbformat_minor": 5
}