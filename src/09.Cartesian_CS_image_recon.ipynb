{
 "cells": [
  {
   "cell_type": "markdown",
   "id": "db95da91",
   "metadata": {},
   "source": [
    "Eighth exercice: MR image reconstruction from Cartesian data\n",
    "==============================================\n",
    "\n",
    "In this tutorial we will reconstruct an MR image from Cartesian under-sampled kspace measurements.\n",
    "\n",
    "We use the toy datasets available in pysap, more specifically a 2D brain slice\n",
    "and the cartesian acquisition scheme.\n",
    "We compare zero-order image reconstruction with Compressed sensing\n",
    "reconstructions (analysis vs synthesis formulation) using the FISTA algorithm\n",
    "for the synthesis formulation and the Condat-Vu algorithm for the analysis\n",
    "formulation.Sparsity will be promoted in the wavelet domain, using either\n",
    "Symmlet-8 (analysis and synthesis) or undecimated bi-orthogonal wavelets\n",
    "(analysis only).\n",
    "\n",
    "We remind that the synthesis formulation reads (minimization in the sparsifying domain):\n",
    "\n",
    "$$\n",
    "\\widehat{z} = \\text{arg}\\,\\min_{z\\in C^n_\\Psi} \\frac{1}{2} \\|y - \\Omega F \\Psi^*z \\|_2^2 + \\lambda \\|z\\|_1\n",
    "$$\n",
    "\n",
    "and the image solution is given by $\\widehat{x} = \\Psi^*\\widehat{z}$. For an orthonormal wavelet transform,\n",
    "we have $n_\\Psi=n$ while for a frame we may have $n_\\Psi > n$.\n",
    "\n",
    "while the analysis formulation consists in minimizing the following cost function (min. in the image domain):\n",
    "\n",
    "$$\n",
    "\\widehat{x} = \\text{arg}\\,\\min_{x\\in C^n} \\frac{1}{2} \\|y - \\Omega F x\\|_2^2 + \\lambda \\|\\Psi x\\|_1 \\,.\n",
    "$$\n",
    "\n",
    "- Author: Chaithya G R & Philippe Ciuciu\n",
    "- Date: 01/06/2021\n",
    "- Target: ATSI MSc students, Paris-Saclay University"
   ]
  },
  {
   "cell_type": "code",
   "execution_count": null,
   "id": "bf441f19",
   "metadata": {},
   "outputs": [],
   "source": [
    "# Package import\n",
    "from mri.operators import FFT, WaveletN, WaveletUD2\n",
    "from mri.operators.utils import convert_mask_to_locations\n",
    "from mri.reconstructors import SingleChannelReconstructor\n",
    "from pysap.data import get_sample_data\n",
    "\n",
    "# Third party import\n",
    "from modopt.opt.proximity import SparseThreshold\n",
    "from modopt.opt.linear import Identity\n",
    "from modopt.math.metrics import ssim\n",
    "import numpy as np\n",
    "import matplotlib.pyplot as plt"
   ]
  },
  {
   "cell_type": "code",
   "execution_count": null,
   "id": "978f1e5c",
   "metadata": {},
   "outputs": [],
   "source": [
    "image = get_sample_data('2d-mri')\n",
    "# Obtain K-Space Cartesian Mask\n",
    "mask = get_sample_data(\"cartesian-mri-mask\")"
   ]
  },
  {
   "cell_type": "code",
   "execution_count": null,
   "id": "c66c8ccd",
   "metadata": {},
   "outputs": [],
   "source": [
    "plt.subplot(1, 2, 1)\n",
    "plt.imshow(np.abs(image), cmap='gray')\n",
    "plt.title(\"MRI Data\")\n",
    "plt.subplot(1, 2, 2)\n",
    "plt.imshow(mask, cmap='gray')\n",
    "plt.title(\"K-space Sampling Mask\")\n",
    "plt.show()"
   ]
  },
  {
   "cell_type": "markdown",
   "id": "55750baf",
   "metadata": {},
   "source": [
    "Generate the kspace\n",
    "-------------------\n",
    "\n",
    "From the 2D brain slice and the acquisition mask, we retrospectively\n",
    "undersample the k-space using a cartesian acquisition mask.\n",
    "We then reconstruct the zero order solution as a baseline"
   ]
  },
  {
   "cell_type": "markdown",
   "id": "580efd40",
   "metadata": {},
   "source": [
    "Get the locations of the kspace samples"
   ]
  },
  {
   "cell_type": "code",
   "execution_count": null,
   "id": "546d935f",
   "metadata": {},
   "outputs": [],
   "source": [
    "# Get the locations of the kspace samples\n",
    "kspace_loc = convert_mask_to_locations(mask.data)\n",
    "# Generate the subsampled kspace\n",
    "fourier_op = FFT(samples=kspace_loc, shape=image.shape)\n",
    "kspace_data = fourier_op.op(image)"
   ]
  },
  {
   "cell_type": "markdown",
   "id": "c46a49f4",
   "metadata": {},
   "source": [
    "Zero order solution"
   ]
  },
  {
   "cell_type": "code",
   "execution_count": null,
   "id": "75809183",
   "metadata": {},
   "outputs": [],
   "source": [
    "zero_soln = fourier_op.adj_op(kspace_data)\n",
    "base_ssim = ssim(zero_soln, image)\n",
    "plt.imshow(np.abs(zero_soln), cmap='gray')\n",
    "plt.title('Zero Order Solution : SSIM = ' + str(np.around(base_ssim, 3)))\n",
    "plt.show()"
   ]
  },
  {
   "cell_type": "markdown",
   "id": "52653099",
   "metadata": {},
   "source": [
    "Synthesis formulation: FISTA vs POGM optimization\n",
    "------------------------------------------------------------\n",
    "\n",
    "We now want to refine the zero-order solution using compressed sensing reconstruction.\n",
    "Here we adopt the synthesis formulation based on the FISTA algorithm.\n",
    "The cost function is set to Proximity Cost + Gradient Cost"
   ]
  },
  {
   "cell_type": "code",
   "execution_count": null,
   "id": "f86300f3",
   "metadata": {},
   "outputs": [],
   "source": [
    "# Setup the operators\n",
    "linear_op = WaveletN(wavelet_name=\"sym8\", nb_scales=4)\n",
    "regularizer_op = SparseThreshold(Identity(), 2 * 1e-7, thresh_type=\"soft\")\n",
    "# Setup Reconstructor\n",
    "reconstructor = SingleChannelReconstructor(\n",
    "    fourier_op=fourier_op,\n",
    "    linear_op=linear_op,\n",
    "    regularizer_op=regularizer_op,\n",
    "    gradient_formulation='synthesis',\n",
    "    verbose=1,\n",
    ")"
   ]
  },
  {
   "cell_type": "code",
   "execution_count": null,
   "id": "11af55ae",
   "metadata": {},
   "outputs": [],
   "source": [
    "image_rec, costs, metrics = reconstructor.reconstruct(\n",
    "    kspace_data=kspace_data,\n",
    "    optimization_alg='fista',\n",
    "    num_iterations=200,\n",
    ")\n",
    "recon_ssim = ssim(image_rec, image)\n",
    "plt.imshow(np.abs(image_rec), cmap='gray')\n",
    "plt.title('Iterative Reconstruction FISTA: SSIM = ' + str(np.around(recon_ssim, 3)))\n",
    "plt.show()"
   ]
  },
  {
   "cell_type": "markdown",
   "id": "f86f95e1",
   "metadata": {},
   "source": [
    "## POGM optimization"
   ]
  },
  {
   "cell_type": "code",
   "execution_count": null,
   "id": "b8eead0e",
   "metadata": {},
   "outputs": [],
   "source": [
    "image_rec2, costs, metrics = reconstructor.reconstruct(\n",
    "    kspace_data=kspace_data,\n",
    "    optimization_alg='pogm',\n",
    "    num_iterations=200,\n",
    ")\n",
    "recon2_ssim = ssim(image_rec2, image)\n",
    "plt.imshow(np.abs(image_rec2), cmap='gray')\n",
    "plt.title('Iterative Reconstruction POGM: SSIM = ' + str(np.around(recon2_ssim, 3)))\n",
    "plt.show()"
   ]
  },
  {
   "cell_type": "markdown",
   "id": "d482fc3d",
   "metadata": {},
   "source": [
    "Analysis formulation: Condat-Vu reconstruction\n",
    "---------------------------------------------------------------------"
   ]
  },
  {
   "cell_type": "code",
   "execution_count": null,
   "id": "05339e79",
   "metadata": {},
   "outputs": [],
   "source": [
    "linear_op = WaveletUD2(\n",
    "    wavelet_id=24,\n",
    "    nb_scale=4,\n",
    ")\n",
    "regularizer_op = SparseThreshold(Identity(), 2 * 1e-7, thresh_type=\"soft\")"
   ]
  },
  {
   "cell_type": "code",
   "execution_count": null,
   "id": "f8603ea9",
   "metadata": {},
   "outputs": [],
   "source": [
    "reconstructor = SingleChannelReconstructor(\n",
    "    fourier_op=fourier_op,\n",
    "    linear_op=linear_op,\n",
    "    regularizer_op=regularizer_op,\n",
    "    gradient_formulation='analysis',\n",
    "    verbose=1,\n",
    ")"
   ]
  },
  {
   "cell_type": "code",
   "execution_count": null,
   "id": "7b5e6972",
   "metadata": {},
   "outputs": [],
   "source": [
    "image_rec3, costs, metrics = reconstructor.reconstruct(\n",
    "    kspace_data=kspace_data,\n",
    "    optimization_alg='condatvu',\n",
    "    num_iterations=200,\n",
    ")\n",
    "recon3_ssim = ssim(image_rec3, image)\n",
    "plt.imshow(np.abs(image_rec3), cmap='gray')\n",
    "plt.title('Iterative Reconstruction Condat-Vu: SSIM = ' + str(np.around(recon3_ssim, 3)))\n",
    "plt.show()"
   ]
  }
 ],
 "metadata": {
  "kernelspec": {
   "display_name": "Python 3 (ipykernel)",
   "language": "python",
   "name": "python3"
  }
 },
 "nbformat": 4,
 "nbformat_minor": 5
}