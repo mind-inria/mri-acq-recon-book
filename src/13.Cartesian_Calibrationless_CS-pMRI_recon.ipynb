{
 "cells": [
  {
   "cell_type": "markdown",
   "id": "f3762d64",
   "metadata": {},
   "source": [
    "# Twelveth exercice: Calibrationless CS-pMR image reconstruction from undersampled Cartesian data\n",
    "\n",
    "In this tutorial we will reconstruct a 2D MR image from multicoil Cartesian under-sampled kspace measurements.\n",
    "\n",
    "We use the toy datasets available in pysap, more specifically a 2D brain slice and under-sampled Cartesian acquisition over 32 channels.\n",
    "We compare zero-order image reconstruction with **calibrationless** multi-coil Compressed sensing reconstructions (analysis vs synthesis formulation) using the FISTA algorithm for the synthesis formulation and the Condat-Vu algorithm for the analysis formulation.\n",
    "**Structured sparsity** will be promoted in the wavelet domain, using either Symmlet-8 (analysis and synthesis) or undecimated bi-orthogonal wavelets (analysis only) considering group-LASSO or OSCAR-based regularization.\n",
    "The multicoil data $(y_\\ell)_\\ell$ is collected across multiple, say $L$, channels.\n",
    "\n",
    "We remind that the synthesis formulation of the Calibrationless CS-PMRI problem reads (minimization in the sparsifying domain):\n",
    "\n",
    "$$\n",
    "\\widehat{Z} = \\text{arg}\\,\\min_{Z\\in C^{n_\\Psi\\times L}} \\frac{1}{2} \\sum_{\\ell=1}^L\\|y_\\ell - \\Omega F \\Psi^*z_\\ell \\|_2^2 + \\lambda {\\cal R}(Z)\n",
    "$$\n",
    "\n",
    "where $Z= [z_1, \\ldots, z_L]$ and $X = [x_1,\\ldots, x_L]\\in C^{n\\times L}$ such that $x_l = \\Psi^* z_l$.\n",
    "The image solution is given by $\\widehat{x} = \\Psi^*\\widehat{z}$. For an orthonormal wavelet transform,\n",
    "we have $n_\\Psi=n$ while for a frame we may have $n_\\Psi > n$. The regularization term promotes structured sparsity.\n",
    "For instance when one chooses group-LASSO regularization ${\\cal R}(Z) = \\sum_{i=1}^{n_\\Psi} \\|z_i\\|_2$, where the L2 norm\n",
    "involves the $L$ channels per wavelet coefficient $z_i$.\n",
    "\n",
    "The analysis formulation consists in minimizing the following cost function (min. in the image domain):\n",
    "\n",
    "$$\n",
    "\\widehat{X} = \\text{arg}\\,\\min_{X\\in C^{n\\times L}} \\frac{1}{2} \\sum_{\\ell=1}^L \\|y_\\ell - \\Omega F x_\\ell\\|_2^2 + \\lambda {\\cal R}( \\Psi X)\\, .\n",
    "$$\n",
    "\n",
    "- Author: Chaithya G R & Philippe Ciuciu\n",
    "- Date: 01/07/2021\n",
    "- Target: ATSI MSc students, Paris-Saclay University"
   ]
  },
  {
   "cell_type": "code",
   "execution_count": null,
   "id": "d6b74819",
   "metadata": {},
   "outputs": [],
   "source": [
    "# Package import\n",
    "from mri.operators import FFT, WaveletN, OWL\n",
    "from mri.reconstructors import CalibrationlessReconstructor\n",
    "from pysap.data import get_sample_data\n",
    "\n",
    "# Third party import\n",
    "from modopt.opt.proximity import GroupLASSO\n",
    "from modopt.math.metrics import ssim\n",
    "import numpy as np\n",
    "import matplotlib.pyplot as plt"
   ]
  },
  {
   "cell_type": "code",
   "execution_count": null,
   "id": "2031d8a8",
   "metadata": {},
   "outputs": [],
   "source": [
    "# Loading input data\n",
    "cartesian_ref_image = get_sample_data('2d-pmri').data\n",
    "image = np.linalg.norm(cartesian_ref_image, axis=0)\n",
    "# Obtain MRI cartesian mask\n",
    "mask = get_sample_data(\"cartesian-mri-mask\").data"
   ]
  },
  {
   "cell_type": "code",
   "execution_count": null,
   "id": "521192bb",
   "metadata": {},
   "outputs": [],
   "source": [
    "# View Input\n",
    "plt.subplot(1, 2, 1)\n",
    "plt.imshow(np.abs(image), cmap='gray')\n",
    "plt.title(\"MRI Data\")\n",
    "plt.subplot(1, 2, 2)\n",
    "plt.imshow(mask, cmap='gray')\n",
    "plt.title(\"K-space Sampling Mask\")\n",
    "plt.show()"
   ]
  },
  {
   "cell_type": "markdown",
   "id": "efcbf8cb",
   "metadata": {},
   "source": [
    "## Generate the kspace\n",
    "\n",
    "From the 2D brain slice and the acquisition mask, we retrospectively\n",
    "undersample the k-space using a cartesian acquisition mask\n",
    "We then reconstruct the zero order solution as a baseline"
   ]
  },
  {
   "cell_type": "code",
   "execution_count": null,
   "id": "b4f4676c",
   "metadata": {},
   "outputs": [],
   "source": [
    "# Get the locations of the kspace samples and the associated observations\n",
    "fourier_op = FFT(mask=mask, shape=image.shape,\n",
    "                 n_coils=cartesian_ref_image.shape[0])\n",
    "kspace_obs = fourier_op.op(cartesian_ref_image)"
   ]
  },
  {
   "cell_type": "code",
   "execution_count": null,
   "id": "24c01106",
   "metadata": {},
   "outputs": [],
   "source": [
    "# Zero order solution\n",
    "zero_soln = np.linalg.norm(fourier_op.adj_op(kspace_obs), axis=0)\n",
    "base_ssim = ssim(zero_soln, image)\n",
    "plt.imshow(np.abs(zero_soln), cmap='gray')\n",
    "plt.title('Zero Order Solution : SSIM = ' + str(np.around(base_ssim, 3)))\n",
    "plt.show()"
   ]
  },
  {
   "cell_type": "markdown",
   "id": "f59f0bc9",
   "metadata": {},
   "source": [
    "## Synthesis formulation: FISTA vs POGM optimization\n",
    "\n",
    "We now want to refine the zero order solution using a FISTA optimization.\n",
    "The cost function is set to Proximity Cost + Gradient Cost"
   ]
  },
  {
   "cell_type": "code",
   "execution_count": null,
   "id": "8f9a8a3f",
   "metadata": {},
   "outputs": [],
   "source": [
    "# Setup the operators\n",
    "linear_op = WaveletN(\n",
    "    wavelet_name='sym8',\n",
    "    nb_scale=4,\n",
    "    n_coils=cartesian_ref_image.shape[0],\n",
    ")\n",
    "coeffs = linear_op.op(cartesian_ref_image)\n",
    "regularizer_op = GroupLASSO(weights=6e-8)"
   ]
  },
  {
   "cell_type": "markdown",
   "id": "961c4682",
   "metadata": {},
   "source": [
    "## Setup reconstructor:"
   ]
  },
  {
   "cell_type": "code",
   "execution_count": null,
   "id": "8ce5d049",
   "metadata": {},
   "outputs": [],
   "source": [
    "# Setup Reconstructor\n",
    "reconstructor = CalibrationlessReconstructor(\n",
    "    fourier_op=fourier_op,\n",
    "    linear_op=linear_op,\n",
    "    regularizer_op=regularizer_op,\n",
    "    gradient_formulation='synthesis',\n",
    "    verbose=1,\n",
    ")"
   ]
  },
  {
   "cell_type": "code",
   "execution_count": null,
   "id": "35d653a4",
   "metadata": {},
   "outputs": [],
   "source": [
    "# Run the FISTA reconstruction and view results\n",
    "image_rec, costs, metrics = reconstructor.reconstruct(\n",
    "    kspace_data=kspace_obs,\n",
    "    optimization_alg='fista',\n",
    "    num_iterations=100,\n",
    ")\n",
    "image_rec = np.linalg.norm(image_rec, axis=0)\n",
    "recon_ssim = ssim(image_rec, image)\n",
    "plt.imshow(np.abs(image_rec), cmap='gray')\n",
    "plt.title('Iterative FISTA Reconstruction : SSIM = ' + str(np.around(recon_ssim, 3)))\n",
    "plt.show()"
   ]
  },
  {
   "cell_type": "markdown",
   "id": "25122bff",
   "metadata": {},
   "source": [
    "## POGM optimization"
   ]
  },
  {
   "cell_type": "code",
   "execution_count": null,
   "id": "611979b7",
   "metadata": {},
   "outputs": [],
   "source": [
    "# Run the POGM reconstruction and view results\n",
    "image_rec2, costs, metrics = reconstructor.reconstruct(\n",
    "    kspace_data=kspace_obs,\n",
    "    optimization_alg='pogm',\n",
    "    num_iterations=100,\n",
    ")\n",
    "image_rec2 = np.linalg.norm(image_rec2, axis=0)\n",
    "recon2_ssim = ssim(image_rec2, image)\n",
    "plt.imshow(np.abs(image_rec2), cmap='gray')\n",
    "plt.title('Iterative POGM Reconstruction : SSIM = ' + str(np.around(recon2_ssim, 3)))\n",
    "plt.show()"
   ]
  },
  {
   "cell_type": "code",
   "execution_count": null,
   "id": "1028dc18",
   "metadata": {},
   "outputs": [],
   "source": [
    "# Setup the operators\n",
    "linear_op = WaveletN(\n",
    "    wavelet_name='sym8',\n",
    "    nb_scale=4,\n",
    "    n_coils=cartesian_ref_image.shape[0],\n",
    ")\n",
    "coeffs = linear_op.op(cartesian_ref_image)\n",
    "regularizer_op = OWL(\n",
    "    alpha=1.05e-8,\n",
    "    beta=0,\n",
    "    mode='band_based',\n",
    "    n_coils=cartesian_ref_image.shape[0],\n",
    "    bands_shape=linear_op.coeffs_shape,\n",
    ")\n",
    "# Setup Reconstructor\n",
    "reconstructor = CalibrationlessReconstructor(\n",
    "    fourier_op=fourier_op,\n",
    "    linear_op=linear_op,\n",
    "    regularizer_op=regularizer_op,\n",
    "    gradient_formulation='synthesis',\n",
    "    verbose=1,\n",
    ")"
   ]
  },
  {
   "cell_type": "code",
   "execution_count": null,
   "id": "402b1e27",
   "metadata": {},
   "outputs": [],
   "source": [
    "# Run the FISTA reconstruction and view results\n",
    "image_rec, costs, metrics = reconstructor.reconstruct(\n",
    "    kspace_data=kspace_obs,\n",
    "    optimization_alg='fista',\n",
    "    num_iterations=100,\n",
    ")\n",
    "image_rec = np.linalg.norm(image_rec, axis=0)\n",
    "recon_ssim = ssim(image_rec, image)\n",
    "plt.imshow(np.abs(image_rec), cmap='gray')\n",
    "plt.title('Iterative Reconstruction : SSIM = ' + str(np.around(recon_ssim, 2)))\n",
    "plt.show()"
   ]
  },
  {
   "cell_type": "code",
   "execution_count": null,
   "id": "591bad7f",
   "metadata": {},
   "outputs": [],
   "source": [
    "linear_op = WaveletN(\n",
    "    wavelet_name='sym8',\n",
    "    nb_scale=4,\n",
    "    n_coils=cartesian_ref_image.shape[0],\n",
    ")\n",
    "#padding_mode=\"periodization\"\n",
    "\n",
    "regularizer_op = GroupLASSO(6e-8)"
   ]
  },
  {
   "cell_type": "code",
   "execution_count": null,
   "id": "eccb4461",
   "metadata": {},
   "outputs": [],
   "source": [
    "reconstructor = CalibrationlessReconstructor(\n",
    "    fourier_op=fourier_op,\n",
    "    linear_op=linear_op,\n",
    "    regularizer_op=regularizer_op,\n",
    "    gradient_formulation='analysis',\n",
    "    verbose=1,\n",
    ")"
   ]
  },
  {
   "cell_type": "code",
   "execution_count": null,
   "id": "f402545d",
   "metadata": {},
   "outputs": [],
   "source": [
    "x_final, costs, metrics = reconstructor.reconstruct(\n",
    "    kspace_data=kspace_obs,\n",
    "    optimization_alg='condatvu',\n",
    "    num_iterations=100,\n",
    ")\n",
    "\n",
    "image_rec = pysap.Image(data=np.sqrt(np.sum(np.abs(x_final)**2, axis=0)))\n",
    "recon_ssim = ssim(image_rec, image)\n",
    "\n",
    "plt.imshow(np.abs(image_rec), cmap='gray')\n",
    "plt.title('Condat-Vu Reconstruction\\nSSIM = ' + str(recon_ssim))\n",
    "plt.show()"
   ]
  },
  {
   "cell_type": "code",
   "execution_count": null,
   "id": "891e4789",
   "metadata": {},
   "outputs": [],
   "source": [
    "# Undecimated Wavelets\n",
    "#linear_op = WaveletUD2(\n",
    "#    wavelet_id=24,\n",
    "#    nb_scale=4,\n",
    "#    n_coils=cartesian_ref_image.shape[0],\n",
    "#)"
   ]
  },
  {
   "cell_type": "code",
   "execution_count": null,
   "id": "bbd4b3c0",
   "metadata": {},
   "outputs": [],
   "source": [
    "#regularizer_op = GroupLASSO(6e-8)\n",
    "coeffs = linear_op.op(cartesian_ref_image)\n",
    "regularizer_op = OWL(\n",
    "    alpha=1.05e-8,\n",
    "    beta=0,\n",
    "    mode='band_based',\n",
    "    n_coils=cartesian_ref_image.shape[0],\n",
    "    bands_shape=linear_op.coeffs_shape,\n",
    ")"
   ]
  },
  {
   "cell_type": "code",
   "execution_count": null,
   "id": "bfb45f68",
   "metadata": {},
   "outputs": [],
   "source": [
    "reconstructor = CalibrationlessReconstructor(\n",
    "    fourier_op=fourier_op,\n",
    "    linear_op=linear_op,\n",
    "    regularizer_op=regularizer_op,\n",
    "    gradient_formulation='analysis',\n",
    "    verbose=1,\n",
    ")"
   ]
  },
  {
   "cell_type": "code",
   "execution_count": null,
   "id": "c3b07310",
   "metadata": {},
   "outputs": [],
   "source": [
    "x_final, costs, metrics = reconstructor.reconstruct(\n",
    "    kspace_data=kspace_obs,\n",
    "    optimization_alg='condatvu',\n",
    "    num_iterations=100,\n",
    ")\n",
    "\n",
    "image_rec = pysap.Image(data=np.sqrt(np.sum(np.abs(x_final)**2, axis=0)))\n",
    "recon_ssim = ssim(image_rec, image)\n",
    "\n",
    "plt.imshow(np.abs(image_rec), cmap='gray')\n",
    "plt.title('Condat-Vu Reconstruction\\nSSIM = ' + str(recon_ssim))\n",
    "plt.show()"
   ]
  }
 ],
 "metadata": {
  "kernelspec": {
   "display_name": "Python 3 (ipykernel)",
   "language": "python",
   "name": "python3"
  }
 },
 "nbformat": 4,
 "nbformat_minor": 5
}