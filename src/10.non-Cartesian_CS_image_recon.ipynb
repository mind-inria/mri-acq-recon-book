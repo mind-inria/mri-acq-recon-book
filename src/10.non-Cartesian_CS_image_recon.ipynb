{
 "cells": [
  {
   "cell_type": "markdown",
   "id": "0eaf31e4",
   "metadata": {},
   "source": [
    "\n",
    "# Nineth exercice: non-Cartesian MR image reconstruction\n",
    "\n",
    "In this tutorial we will reconstruct an MRI image from radial undersampled kspace measurements. Let us denote $\\Omega$ the undersampling mask, the under-sampled Fourier transform now reads $F_{\\Omega}$.\n",
    "\n",
    "## Import neuroimaging data\n",
    "\n",
    "We use the toy datasets available in pysap, more specifically a 2D brain slice\n",
    "and the radial under-sampling scheme. We compare zero-order image\n",
    "reconstruction with Compressed sensing reconstructions (analysis vs synthesis\n",
    "formulation) using the FISTA algorithm for the synthesis formulation and the\n",
    "Condat-Vu algorithm for the analysis formulation.\n",
    "\n",
    "We remind that the synthesis formulation reads (minimization in the sparsifying domain):\n",
    "\n",
    "$$\n",
    "\\widehat{z} = \\text{arg}\\,\\min_{z\\in C^n_\\Psi} \\frac{1}{2} \\|y - F_\\Omega  \\Psi^*z \\|_2^2 + \\lambda \\|z\\|_1\n",
    "$$\n",
    "\n",
    "and the image solution is given by $\\widehat{x} = \\Psi^*\\widehat{z}$. For an orthonormal wavelet transform,\n",
    "we have $n_\\Psi=n$ while for a frame we may have $n_\\Psi > n$.\n",
    "\n",
    "while the analysis formulation consists in minimizing the following cost function (min. in the image domain):\n",
    "\n",
    "$$\n",
    "\\widehat{x} = \\text{arg}\\,\\min_{x\\in C^n} \\frac{1}{2} \\|y - F_\\Omega x\\|_2^2 + \\lambda \\|\\Psi x\\|_1 \\,.\n",
    "$$\n",
    "\n",
    "- Author: Chaithya G R & Philippe Ciuciu\n",
    "- Date: 01/06/2021\n",
    "- Target: ATSI MSc students, Paris-Saclay University"
   ]
  },
  {
   "cell_type": "code",
   "execution_count": 1,
   "id": "91bd7f3e",
   "metadata": {},
   "outputs": [
    {
     "ename": "ModuleNotFoundError",
     "evalue": "No module named 'mri'",
     "output_type": "error",
     "traceback": [
      "\u001b[0;31m---------------------------------------------------------------------------\u001b[0m",
      "\u001b[0;31mModuleNotFoundError\u001b[0m                       Traceback (most recent call last)",
      "\u001b[0;32m/tmp/ipykernel_272974/3773648004.py\u001b[0m in \u001b[0;36m<module>\u001b[0;34m\u001b[0m\n\u001b[0;32m----> 1\u001b[0;31m \u001b[0;32mfrom\u001b[0m \u001b[0mmri\u001b[0m\u001b[0;34m.\u001b[0m\u001b[0moperators\u001b[0m \u001b[0;32mimport\u001b[0m \u001b[0mNonCartesianFFT\u001b[0m\u001b[0;34m,\u001b[0m \u001b[0mWaveletUD2\u001b[0m\u001b[0;34m,\u001b[0m \u001b[0mWaveletN\u001b[0m\u001b[0;34m\u001b[0m\u001b[0;34m\u001b[0m\u001b[0m\n\u001b[0m\u001b[1;32m      2\u001b[0m \u001b[0;32mfrom\u001b[0m \u001b[0mmri\u001b[0m\u001b[0;34m.\u001b[0m\u001b[0moperators\u001b[0m\u001b[0;34m.\u001b[0m\u001b[0mutils\u001b[0m \u001b[0;32mimport\u001b[0m \u001b[0mconvert_locations_to_mask\u001b[0m\u001b[0;34m,\u001b[0m\u001b[0;31m \u001b[0m\u001b[0;31m\\\u001b[0m\u001b[0;34m\u001b[0m\u001b[0;34m\u001b[0m\u001b[0m\n\u001b[1;32m      3\u001b[0m     \u001b[0mgridded_inverse_fourier_transform_nd\u001b[0m\u001b[0;34m\u001b[0m\u001b[0;34m\u001b[0m\u001b[0m\n\u001b[1;32m      4\u001b[0m \u001b[0;32mfrom\u001b[0m \u001b[0mmri\u001b[0m\u001b[0;34m.\u001b[0m\u001b[0mreconstructors\u001b[0m \u001b[0;32mimport\u001b[0m \u001b[0mSingleChannelReconstructor\u001b[0m\u001b[0;34m\u001b[0m\u001b[0;34m\u001b[0m\u001b[0m\n\u001b[1;32m      5\u001b[0m \u001b[0;32mfrom\u001b[0m \u001b[0mpysap\u001b[0m\u001b[0;34m.\u001b[0m\u001b[0mdata\u001b[0m \u001b[0;32mimport\u001b[0m \u001b[0mget_sample_data\u001b[0m\u001b[0;34m\u001b[0m\u001b[0;34m\u001b[0m\u001b[0m\n",
      "\u001b[0;31mModuleNotFoundError\u001b[0m: No module named 'mri'"
     ]
    }
   ],
   "source": [
    "from mri.operators import NonCartesianFFT, WaveletUD2, WaveletN\n",
    "from mri.operators.utils import convert_locations_to_mask, \\\n",
    "    gridded_inverse_fourier_transform_nd\n",
    "from mri.reconstructors import SingleChannelReconstructor\n",
    "from pysap.data import get_sample_data\n",
    "\n",
    "# Third party import\n",
    "from modopt.math.metrics import ssim\n",
    "from modopt.opt.linear import Identity\n",
    "from modopt.opt.proximity import SparseThreshold\n",
    "import numpy as np\n",
    "import matplotlib.pyplot as plt"
   ]
  },
  {
   "cell_type": "markdown",
   "id": "1d7de65f",
   "metadata": {},
   "source": [
    "## Loading input data"
   ]
  },
  {
   "cell_type": "code",
   "execution_count": 2,
   "id": "d9860e45",
   "metadata": {},
   "outputs": [
    {
     "ename": "NameError",
     "evalue": "name 'get_sample_data' is not defined",
     "output_type": "error",
     "traceback": [
      "\u001b[0;31m---------------------------------------------------------------------------\u001b[0m",
      "\u001b[0;31mNameError\u001b[0m                                 Traceback (most recent call last)",
      "\u001b[0;32m/tmp/ipykernel_272974/1492054826.py\u001b[0m in \u001b[0;36m<module>\u001b[0;34m\u001b[0m\n\u001b[0;32m----> 1\u001b[0;31m \u001b[0mimage\u001b[0m \u001b[0;34m=\u001b[0m \u001b[0mget_sample_data\u001b[0m\u001b[0;34m(\u001b[0m\u001b[0;34m'2d-mri'\u001b[0m\u001b[0;34m)\u001b[0m\u001b[0;34m.\u001b[0m\u001b[0mdata\u001b[0m\u001b[0;34m.\u001b[0m\u001b[0mastype\u001b[0m\u001b[0;34m(\u001b[0m\u001b[0mnp\u001b[0m\u001b[0;34m.\u001b[0m\u001b[0mcomplex64\u001b[0m\u001b[0;34m)\u001b[0m\u001b[0;34m\u001b[0m\u001b[0;34m\u001b[0m\u001b[0m\n\u001b[0m\u001b[1;32m      2\u001b[0m \u001b[0;34m\u001b[0m\u001b[0m\n\u001b[1;32m      3\u001b[0m \u001b[0;31m# Obtain MRI non-cartesian mask\u001b[0m\u001b[0;34m\u001b[0m\u001b[0;34m\u001b[0m\u001b[0m\n\u001b[1;32m      4\u001b[0m \u001b[0mradial_mask\u001b[0m \u001b[0;34m=\u001b[0m \u001b[0mget_sample_data\u001b[0m\u001b[0;34m(\u001b[0m\u001b[0;34m\"mri-radial-samples\"\u001b[0m\u001b[0;34m)\u001b[0m\u001b[0;34m\u001b[0m\u001b[0;34m\u001b[0m\u001b[0m\n\u001b[1;32m      5\u001b[0m \u001b[0mkspace_loc\u001b[0m \u001b[0;34m=\u001b[0m \u001b[0mradial_mask\u001b[0m\u001b[0;34m.\u001b[0m\u001b[0mdata\u001b[0m\u001b[0;34m\u001b[0m\u001b[0;34m\u001b[0m\u001b[0m\n",
      "\u001b[0;31mNameError\u001b[0m: name 'get_sample_data' is not defined"
     ]
    }
   ],
   "source": [
    "image = get_sample_data('2d-mri').data.astype(np.complex64)\n",
    "\n",
    "# Obtain MRI non-cartesian mask\n",
    "radial_mask = get_sample_data(\"mri-radial-samples\")\n",
    "kspace_loc = radial_mask.data"
   ]
  },
  {
   "cell_type": "markdown",
   "id": "2411b655",
   "metadata": {},
   "source": [
    "## View Input data"
   ]
  },
  {
   "cell_type": "code",
   "execution_count": null,
   "id": "31ec8b7c",
   "metadata": {},
   "outputs": [],
   "source": [
    "plt.subplot(1, 2, 1)\n",
    "plt.imshow(np.abs(image), cmap='gray')\n",
    "plt.title(\"MRI Data\")\n",
    "plt.subplot(1, 2, 2)\n",
    "plt.imshow(convert_locations_to_mask(kspace_loc, image.shape), cmap='gray')\n",
    "plt.title(\"K-space Sampling Mask\")\n",
    "plt.show()"
   ]
  },
  {
   "cell_type": "markdown",
   "id": "6b6a3eed",
   "metadata": {},
   "source": [
    "## Generate the kspace\n",
    "\n",
    "From the 2D brain slice and the acquisition mask, we retrospectively\n",
    "undersample the k-space using a radial mask. We then reconstruct the zero-order solution as a baseline"
   ]
  },
  {
   "cell_type": "markdown",
   "id": "ab46f1ce",
   "metadata": {},
   "source": [
    "Get the locations of the kspace samples"
   ]
  },
  {
   "cell_type": "code",
   "execution_count": null,
   "id": "26d3dad5",
   "metadata": {},
   "outputs": [],
   "source": [
    "# Get the locations of the kspace samples and the associated observations\n",
    "#fourier_op = NonCartesianFFT(samples=kspace_loc, shape=image.shape, implementation='gpuNUFFT\n",
    "#kspace_obs = fourier_op.op(image)[0]\n",
    "fourier_op = NonCartesianFFT(samples=kspace_loc, shape=image.shape, implementation='finufft')\n",
    "kspace_obs = fourier_op.op(image)"
   ]
  },
  {
   "cell_type": "markdown",
   "id": "fc9d949d",
   "metadata": {},
   "source": [
    "Gridded solution"
   ]
  },
  {
   "cell_type": "code",
   "execution_count": null,
   "id": "b273d0cd",
   "metadata": {},
   "outputs": [],
   "source": [
    "grid_space = np.linspace(-0.5, 0.5, num=image.shape[0])\n",
    "grid2D = np.meshgrid(grid_space, grid_space)\n",
    "grid_soln = gridded_inverse_fourier_transform_nd(kspace_loc, kspace_obs,\n",
    "                                                 tuple(grid2D), 'linear')\n",
    "base_ssim = ssim(grid_soln, image)\n",
    "plt.imshow(np.abs(grid_soln), cmap='gray')\n",
    "plt.title('Gridded solution : SSIM = ' + str(np.around(base_ssim, 3)))\n",
    "plt.show()"
   ]
  },
  {
   "cell_type": "markdown",
   "id": "5abbad6f",
   "metadata": {},
   "source": [
    "## FISTA optimization\n",
    "\n",
    "We now want to refine the zero order solution using a FISTA optimization.\n",
    "The cost function is set to Proximity Cost + Gradient Cost"
   ]
  },
  {
   "cell_type": "code",
   "execution_count": null,
   "id": "ced725a2",
   "metadata": {},
   "outputs": [],
   "source": [
    "linear_op = WaveletN(wavelet_name=\"sym8\", nb_scales=4)\n",
    "regularizer_op = SparseThreshold(Identity(), 6 * 1e-7, thresh_type=\"soft\")"
   ]
  },
  {
   "cell_type": "markdown",
   "id": "ca470fd0",
   "metadata": {},
   "source": [
    "### Generate operators"
   ]
  },
  {
   "cell_type": "code",
   "execution_count": null,
   "id": "2edf3d8a",
   "metadata": {},
   "outputs": [],
   "source": [
    "reconstructor = SingleChannelReconstructor(\n",
    "    fourier_op=fourier_op,\n",
    "    linear_op=linear_op,\n",
    "    regularizer_op=regularizer_op,\n",
    "    gradient_formulation='synthesis',\n",
    "    verbose=1,\n",
    ")"
   ]
  },
  {
   "cell_type": "markdown",
   "id": "062c28b9",
   "metadata": {},
   "source": [
    "### Synthesis formulation: FISTA optimization\n",
    "\n",
    "We now want to refine the zero order solution using a FISTA optimization.\n",
    "The cost function is set to Proximity Cost + Gradient Cost"
   ]
  },
  {
   "cell_type": "code",
   "execution_count": null,
   "id": "c6eec1d2",
   "metadata": {},
   "outputs": [],
   "source": [
    "image_rec, costs, metrics = reconstructor.reconstruct(\n",
    "    kspace_data=kspace_obs,\n",
    "    optimization_alg='fista',\n",
    "    num_iterations=200,\n",
    ")\n",
    "\n",
    "recon_ssim = ssim(image_rec, image)\n",
    "plt.imshow(np.abs(image_rec), cmap='gray')\n",
    "plt.title('FISTA Reconstruction : SSIM = ' + str(np.around(recon_ssim, 3)))\n",
    "plt.show()"
   ]
  },
  {
   "cell_type": "markdown",
   "id": "a9b0f063",
   "metadata": {},
   "source": [
    "### POGM reconstruction"
   ]
  },
  {
   "cell_type": "code",
   "execution_count": null,
   "id": "9be1a94e",
   "metadata": {},
   "outputs": [],
   "source": [
    "image_rec2, costs2, metrics2 = reconstructor.reconstruct(\n",
    "    kspace_data=kspace_obs,\n",
    "    optimization_alg='pogm',\n",
    "    num_iterations=200,\n",
    ")\n",
    "\n",
    "recon2_ssim = ssim(image_rec2, image)\n",
    "plt.imshow(np.abs(image_rec2), cmap='gray')\n",
    "plt.title('POGM Reconstruction : SSIM = ' + str(np.around(recon2_ssim, 3)))\n",
    "plt.show()"
   ]
  },
  {
   "cell_type": "markdown",
   "id": "9fe3f516",
   "metadata": {},
   "source": [
    "## Analysis formulation: Condat-Vu reconstruction"
   ]
  },
  {
   "cell_type": "code",
   "execution_count": null,
   "id": "8e274b8f",
   "metadata": {},
   "outputs": [],
   "source": [
    "#linear_op = WaveletN(wavelet_name=\"sym8\", nb_scales=4)\n",
    "linear_op = WaveletUD2(\n",
    "    wavelet_id=24,\n",
    "    nb_scale=4,\n",
    ")"
   ]
  },
  {
   "cell_type": "code",
   "execution_count": null,
   "id": "7f3a4eee",
   "metadata": {},
   "outputs": [],
   "source": [
    "reconstructor = SingleChannelReconstructor(\n",
    "    fourier_op=fourier_op,\n",
    "    linear_op=linear_op,\n",
    "    regularizer_op=regularizer_op,\n",
    "    gradient_formulation='analysis',\n",
    "    verbose=1,\n",
    ")"
   ]
  },
  {
   "cell_type": "code",
   "execution_count": null,
   "id": "a5d24954",
   "metadata": {},
   "outputs": [],
   "source": [
    "x_final, costs, metrics = reconstructor.reconstruct(\n",
    "    kspace_data=kspace_obs,\n",
    "    optimization_alg='condatvu',\n",
    "    num_iterations=200,\n",
    ")\n",
    "image_rec = pysap.Image(data=np.abs(x_final))\n",
    "plt.imshow(np.abs(image_rec), cmap='gray')\n",
    "recon_ssim = ssim(image_rec, image)\n",
    "plt.title('Condat-Vu Reconstruction\\nSSIM = ' + str(recon_ssim))\n",
    "plt.show()"
   ]
  }
 ],
 "metadata": {
  "kernelspec": {
   "display_name": "Python 3 (ipykernel)",
   "language": "python",
   "name": "python3"
  },
  "language_info": {
   "codemirror_mode": {
    "name": "ipython",
    "version": 3
   },
   "file_extension": ".py",
   "mimetype": "text/x-python",
   "name": "python",
   "nbconvert_exporter": "python",
   "pygments_lexer": "ipython3",
   "version": "3.10.12"
  }
 },
 "nbformat": 4,
 "nbformat_minor": 5
}
