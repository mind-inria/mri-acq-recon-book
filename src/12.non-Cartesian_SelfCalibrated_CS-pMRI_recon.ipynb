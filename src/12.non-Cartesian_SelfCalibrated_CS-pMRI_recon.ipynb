{
 "cells": [
  {
   "cell_type": "markdown",
   "id": "0602ba9c",
   "metadata": {},
   "source": [
    "\n",
    "# Eleventh exercice: Self-calibrated CS-pMR image reconstruction from undersampled non-Cartesian data\n",
    "\n",
    "In this tutorial we will reconstruct an MRI image from radial undersampled kspace measurements. Let us denote $\\Omega$ the undersampling mask, the under-sampled Fourier transform now reads $F_{\\Omega}$.\n",
    "\n",
    "We use the toy datasets available in pysap, more specifically a 2D brain slice and under-sampled Cartesian acquisition over 32 channels.\n",
    "We compare zero-order image reconstruction with **self-calibrated** multi-coil Compressed sensing reconstructions (analysis vs synthesis formulation) using the FISTA algorithm for the synthesis formulation and the Condat-Vu algorithm for the analysis formulation. The multicoil data $(y_\\ell)_\\ell$ is collected across multiple, say $L$, channels. The sensitivity maps $(S_\\ell)_\\ell$ are automically calibrated from the central portion of k-space (e.g. 5%) for all channels $\\ell=1, \\ldots, L$.\n",
    "\n",
    "We remind that the synthesis formulation of the non-Cartesian CS-PMRI problem reads (minimization in the sparsifying domain):\n",
    "\n",
    "$$\n",
    "\\widehat{z} = \\text{arg}\\,\\min_{z\\in C^n_\\Psi} \\frac{1}{2} \\sum_{\\ell=1}^L\\|y_\\ell - F_\\Omega  S_\\ell \\Psi^*z \\|_2^2 + \\lambda \\|z\\|_1\n",
    "$$\n",
    "\n",
    "and the image solution is given by $\\widehat{x} = \\Psi^*\\widehat{z}$. For an orthonormal wavelet transform,\n",
    "we have $n_\\Psi=n$ while for a frame we may have $n_\\Psi > n$.\n",
    "\n",
    "while the analysis formulation consists in minimizing the following cost function (min. in the image domain):\n",
    "\n",
    "$$\n",
    "\\widehat{x} = \\text{arg}\\,\\min_{x\\in C^n} \\frac{1}{2} \\sum_{\\ell=1}^L \\|y_\\ell - F_\\Omega  S_\\ell x\\|_2^2 + \\lambda \\|\\Psi x\\|_1 \\,.\n",
    "$$\n",
    "\n",
    "- Author: Chaithya G R & Philippe Ciuciu\n",
    "- Date: 01/06/2021\n",
    "- Target: ATSI MSc students, Paris-Saclay University"
   ]
  },
  {
   "cell_type": "code",
   "execution_count": null,
   "id": "6b0e4485",
   "metadata": {},
   "outputs": [],
   "source": [
    "# Package import\n",
    "from mri.operators import NonCartesianFFT, WaveletN, WaveletUD2\n",
    "from mri.operators.utils import convert_locations_to_mask, \\\n",
    "    gridded_inverse_fourier_transform_nd\n",
    "from mri.reconstructors import SelfCalibrationReconstructor\n",
    "from mri.reconstructors.utils.extract_sensitivity_maps import get_Smaps\n",
    "\n",
    "import pysap\n",
    "from pysap.data import get_sample_data\n",
    "\n",
    "# Third party import\n",
    "from modopt.math.metrics import ssim\n",
    "from modopt.opt.linear import Identity\n",
    "from modopt.opt.proximity import SparseThreshold\n",
    "import numpy as np\n",
    "import matplotlib.pyplot as plt"
   ]
  },
  {
   "cell_type": "markdown",
   "id": "e20a5a4d",
   "metadata": {},
   "source": [
    "## Loading input data"
   ]
  },
  {
   "cell_type": "code",
   "execution_count": null,
   "id": "0328035f",
   "metadata": {},
   "outputs": [],
   "source": [
    "# Loading input data\n",
    "cartesian_ref_image = get_sample_data('2d-pmri')\n",
    "#image = pysap.Image(data=np.sqrt(np.sum(cartesian_ref_image.data**2, axis=0)))\n",
    "image = np.linalg.norm(cartesian_ref_image, axis=0)\n",
    "\n",
    "# Obtain MRI non-Cartesian radial mask\n",
    "radial_mask = get_sample_data(\"mri-radial-samples\")\n",
    "kspace_loc = radial_mask.data\n",
    "mask = pysap.Image(data=convert_locations_to_mask(kspace_loc, image.shape))\n",
    "\n",
    "plt.subplot(1, 2, 1)\n",
    "plt.imshow(np.abs(image), cmap='gray')\n",
    "plt.title(\"MRI Data\")\n",
    "plt.subplot(1, 2, 2)\n",
    "plt.imshow(mask, cmap='gray')\n",
    "plt.title(\"K-space Sampling Mask\")\n",
    "plt.show()"
   ]
  },
  {
   "cell_type": "markdown",
   "id": "c5f3e905",
   "metadata": {},
   "source": [
    "## Generate the kspace\n",
    "\n",
    "From the 2D brain slice and the acquisition mask, we retrospectively undersample the k-space using a non cartesian acquisition mask.\n",
    "We then grid the kspace to get the gridded solution as a baseline."
   ]
  },
  {
   "cell_type": "code",
   "execution_count": null,
   "id": "12e677ef",
   "metadata": {},
   "outputs": [],
   "source": [
    "# Get the kspace observation values for the kspace locations\n",
    "fourier_op = NonCartesianFFT(\n",
    "    samples=kspace_loc,\n",
    "    shape=image.shape,\n",
    "    n_coils=cartesian_ref_image.shape[0],\n",
    "    implementation='cpu'\n",
    ")\n",
    "\n",
    "kspace_obs = fourier_op.op(cartesian_ref_image)"
   ]
  },
  {
   "cell_type": "markdown",
   "id": "67e4a22c",
   "metadata": {},
   "source": [
    "Gridded solution"
   ]
  },
  {
   "cell_type": "code",
   "execution_count": null,
   "id": "2a7d66b5",
   "metadata": {},
   "outputs": [],
   "source": [
    "# Gridded solution\n",
    "grid_space = np.linspace(-0.5, 0.5, num=image.shape[0])\n",
    "grid2D = np.meshgrid(grid_space, grid_space)\n",
    "grid_soln = np.asarray([\n",
    "    gridded_inverse_fourier_transform_nd(kspace_loc, kspace_obs_ch,\n",
    "                                         tuple(grid2D), 'linear')\n",
    "    for kspace_obs_ch in kspace_obs\n",
    "])\n",
    "image_rec0 = pysap.Image(data=np.sqrt(np.sum(np.abs(grid_soln)**2, axis=0)))\n",
    "\n",
    "plt.imshow(image_rec0, cmap='gray')\n",
    "base_ssim = ssim(image_rec0, image)\n",
    "print('The Base SSIM is : {}'.format(base_ssim))"
   ]
  },
  {
   "cell_type": "markdown",
   "id": "4c916d92",
   "metadata": {},
   "source": [
    "## Estimate Sensitivity maps (Smaps)"
   ]
  },
  {
   "cell_type": "code",
   "execution_count": null,
   "id": "8b09f812",
   "metadata": {},
   "outputs": [],
   "source": [
    "# Obtain SMaps\n",
    "Smaps, SOS = get_Smaps(\n",
    "    k_space=kspace_obs,\n",
    "    img_shape=fourier_op.shape,\n",
    "    samples=kspace_loc,\n",
    "    thresh=(0.01, 0.01),    # The cutoff threshold in each kspace direction\n",
    "                            # between 0 and kspace_max (0.5)\n",
    "    min_samples=kspace_loc.min(axis=0),\n",
    "    max_samples=kspace_loc.max(axis=0),\n",
    "    mode='gridding',\n",
    "    method='linear',\n",
    "    n_cpu=-1,\n",
    ")\n",
    "\n",
    "h=3;w=5;\n",
    "f, axs = plt.subplots(h,w)\n",
    "for i in range(h):\n",
    "    for j in range(w):\n",
    "        axs[i, j].imshow(np.abs(Smaps[3 * i + j]))\n",
    "        axs[i, j].axis('off')\n",
    "plt.subplots_adjust(wspace=0,hspace=0)\n",
    "plt.show()"
   ]
  },
  {
   "cell_type": "markdown",
   "id": "369d299a",
   "metadata": {},
   "source": [
    "## Setup Fourier operators with SENSE"
   ]
  },
  {
   "cell_type": "code",
   "execution_count": null,
   "id": "00da0020",
   "metadata": {},
   "outputs": [],
   "source": [
    "# Setup Fourier Operator with SENSE. This would initialize the\n",
    "# fourier operators in the GPU.\n",
    "# For this we need to specify the implementation as gpuNUFFT\n",
    "# and also pass the Smaps calculated above\n",
    "fourier_implementation = 'cpu'\n",
    "#fourier_implementation = 'gpuNUFFT'\n",
    "\n",
    "fourier_op_sense = NonCartesianFFT(\n",
    "    samples=kspace_loc,\n",
    "    shape=image.shape,\n",
    "    n_coils=cartesian_ref_image.shape[0],\n",
    "    smaps=Smaps,\n",
    "    implementation=fourier_implementation,\n",
    ")"
   ]
  },
  {
   "cell_type": "markdown",
   "id": "09e7afec",
   "metadata": {},
   "source": [
    "## FISTA optimization\n",
    "\n",
    "We now want to refine the zero order solution using a FISTA optimization.\n",
    "The cost function is set to Proximity Cost + Gradient Cost"
   ]
  },
  {
   "cell_type": "code",
   "execution_count": null,
   "id": "da68ba9c",
   "metadata": {},
   "outputs": [],
   "source": [
    "# Setup the operators\n",
    "linear_op = WaveletN(wavelet_name='sym8', nb_scale=4)\n",
    "regularizer_op = SparseThreshold(Identity(), 4e-7, thresh_type=\"soft\")"
   ]
  },
  {
   "cell_type": "code",
   "execution_count": null,
   "id": "0446f7ff",
   "metadata": {},
   "outputs": [],
   "source": [
    "# Setup Reconstructor\n",
    "reconstructor = SelfCalibrationReconstructor(\n",
    "    fourier_op=fourier_op_sense,\n",
    "    linear_op=linear_op,\n",
    "    regularizer_op=regularizer_op,\n",
    "    gradient_formulation='synthesis',\n",
    "    verbose=1,\n",
    ")"
   ]
  },
  {
   "cell_type": "markdown",
   "id": "dcdd7700",
   "metadata": {},
   "source": [
    "## Synthesis formulation: FISTA optimization\n",
    "\n",
    "We now want to refine the zero order solution using a FISTA optimization.\n",
    "The cost function is set to Proximity Cost + Gradient Cost"
   ]
  },
  {
   "cell_type": "code",
   "execution_count": null,
   "id": "5a50e580",
   "metadata": {},
   "outputs": [],
   "source": [
    "x_final, costs, metrics = reconstructor.reconstruct(\n",
    "    kspace_data=kspace_obs,\n",
    "    optimization_alg='fista',\n",
    "    num_iterations=100,\n",
    ")\n",
    "\n",
    "image_rec = pysap.Image(data=x_final)\n",
    "recon_ssim = ssim(image_rec, image)\n",
    "\n",
    "plt.imshow(np.abs(image_rec), cmap='gray')\n",
    "plt.title('FISTA Reconstruction\\nSSIM = {}'.format(recon_ssim))\n",
    "plt.show()"
   ]
  },
  {
   "cell_type": "markdown",
   "id": "c62a9b49",
   "metadata": {},
   "source": [
    "## POGM reconstruction"
   ]
  },
  {
   "cell_type": "code",
   "execution_count": null,
   "id": "58e9ea6d",
   "metadata": {},
   "outputs": [],
   "source": [
    "x_final, costs, metrics = reconstructor.reconstruct(\n",
    "    kspace_data=kspace_obs,\n",
    "    optimization_alg='pogm',\n",
    "    num_iterations=200,\n",
    ")\n",
    "\n",
    "image_rec = pysap.Image(data=np.abs(x_final))\n",
    "recon_ssim = ssim(image_rec, image)\n",
    "\n",
    "plt.imshow(np.abs(image_rec), cmap='gray')\n",
    "recon_ssim = ssim(image_rec, image)\n",
    "plt.title('POGM Reconstruction\\nSSIM = {}'.format(recon_ssim))\n",
    "plt.show()"
   ]
  },
  {
   "cell_type": "markdown",
   "id": "4952db37",
   "metadata": {},
   "source": [
    "## Analysis formulation: Condat-Vu reconstruction"
   ]
  },
  {
   "cell_type": "code",
   "execution_count": null,
   "id": "77e60762",
   "metadata": {},
   "outputs": [],
   "source": [
    "#linear_op = WaveletN(wavelet_name=\"sym8\", nb_scales=4)\n",
    "linear_op = WaveletUD2(\n",
    "    wavelet_id=24,\n",
    "    nb_scale=4,\n",
    ")\n",
    "regularizer_op = SparseThreshold(Identity(), 4e-7, thresh_type=\"soft\")"
   ]
  },
  {
   "cell_type": "code",
   "execution_count": null,
   "id": "6ce86009",
   "metadata": {},
   "outputs": [],
   "source": [
    "# Setup Reconstructor\n",
    "reconstructor = SelfCalibrationReconstructor(\n",
    "    fourier_op=fourier_op_sense,\n",
    "    linear_op=linear_op,\n",
    "    regularizer_op=regularizer_op,\n",
    "    gradient_formulation='analysis',\n",
    "    verbose=1,\n",
    ")"
   ]
  },
  {
   "cell_type": "code",
   "execution_count": null,
   "id": "300d1561",
   "metadata": {},
   "outputs": [],
   "source": [
    "x_final, costs, metrics = reconstructor.reconstruct(\n",
    "    kspace_data=kspace_obs,\n",
    "    optimization_alg='condatvu',\n",
    "    num_iterations=200,\n",
    ")\n",
    "image_rec = pysap.Image(data=np.abs(x_final))\n",
    "plt.imshow(np.abs(image_rec), cmap='gray')\n",
    "recon_ssim = ssim(image_rec, image)\n",
    "plt.title('Condat-Vu Reconstruction\\nSSIM = {}'.format(recon_ssim))\n",
    "plt.show()"
   ]
  }
 ],
 "metadata": {
  "kernelspec": {
   "display_name": "Python 3 (ipykernel)",
   "language": "python",
   "name": "python3"
  }
 },
 "nbformat": 4,
 "nbformat_minor": 5
}