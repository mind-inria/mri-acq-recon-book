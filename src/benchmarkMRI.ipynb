{
 "cells": [
  {
   "cell_type": "markdown",
   "id": "6e6b98ca",
   "metadata": {},
   "source": [
    "The idea of that notebook is to have a reproducible benchmark working with the masters version of `pysap` and `modopt` in April 2019.\n",
    "The benchmark will be on speed, for both sparkling and uniform random acquisition schemes, with a brain phantom, for decimated wavelets.\n",
    "\n",
    "The benchmark will future the algorithms of the abstract submission for SPARS 2019.\n",
    "\n",
    "Special attention must be taken for Condat. We might need to qualify the benchmark with non reproducible experiments where we set the norm of the linear operator.\n",
    "We also need to take care of the relaxation factor."
   ]
  },
  {
   "cell_type": "markdown",
   "id": "648f2418-b152-4179-bf1c-9535508aa5d1",
   "metadata": {},
   "source": [
    "## Install dependencies\n",
    "\n",
    "***On Google Colab, it is required to install the following dependencies in order for the notebook to work***"
   ]
  },
  {
   "cell_type": "code",
   "execution_count": null,
   "id": "0231abe9-085f-4ccb-b8d4-b27191a3ae76",
   "metadata": {},
   "outputs": [],
   "source": [
    "!pip install mri-nufft[finufft,gpunufft] pyWavelets pysap-mri brainweb-dl \"numpy<2.0\" python-pysap "
   ]
  },
  {
   "cell_type": "code",
   "execution_count": null,
   "id": "5415d372-7a29-4544-95f5-4bb3b1fb75ea",
   "metadata": {},
   "outputs": [],
   "source": [
    "# We will also dowload extra data if needed:"
   ]
  },
  {
   "cell_type": "code",
   "execution_count": null,
   "id": "32d2952f",
   "metadata": {
    "lines_to_next_cell": 2
   },
   "outputs": [],
   "source": [
    "%load_ext autoreload\n",
    "%autoreload 2\n",
    "\n",
    "# Third party import\n",
    "import matplotlib.pyplot as plt\n",
    "import numpy as np\n",
    "# from scipy.ndimage import imread\n",
    "# from tqdm import tqdm_notebook\n",
    "\n",
    "# Package import\n",
    "from modopt.math.metrics import ssim\n",
    "import pysap\n",
    "from pysap.data import get_sample_data\n",
    "from mri.operators.utils import convert_locations_to_mask, gridded_inverse_fourier_transform_nd\n",
    "from mri.operators import NonCartesianFFT, WaveletUD2\n",
    "from mri.reconstructors import SelfCalibrationReconstructor, SingleChannelReconstructor\n",
    "from modopt.opt.proximity import SparseThreshold, GroupLASSO\n",
    "from modopt.opt.linear import Identity"
   ]
  },
  {
   "cell_type": "markdown",
   "id": "379046d9",
   "metadata": {},
   "source": [
    "#  Loading input data"
   ]
  },
  {
   "cell_type": "code",
   "execution_count": null,
   "id": "18df683e",
   "metadata": {},
   "outputs": [],
   "source": [
    "# Loading input data\n",
    "image = get_sample_data('2d-mri')\n",
    "\n",
    "# Obtain MRI non-cartesian mask\n",
    "radial_mask = get_sample_data(\"mri-radial-samples\")\n",
    "kspace_loc = radial_mask.data\n",
    "mask = pysap.Image(data=convert_locations_to_mask(kspace_loc, image.shape))\n",
    "plt.imshow(mask, cmap='gray')"
   ]
  },
  {
   "cell_type": "markdown",
   "id": "9877dc6b",
   "metadata": {},
   "source": [
    "# Generate the kspace\n",
    "From the 2D brain slice and the acquistion mask, we generate the acquisition measurments, the observed kspace. We then reconstruct the zero order solution."
   ]
  },
  {
   "cell_type": "code",
   "execution_count": null,
   "id": "371e40ed",
   "metadata": {},
   "outputs": [],
   "source": [
    "fourier_op = NonCartesianFFT(samples=kspace_loc, shape=image.shape, implementation='gpuNUFFT')\n",
    "kspace_obs = fourier_op.op(image.data)"
   ]
  },
  {
   "cell_type": "markdown",
   "id": "e0921e6b",
   "metadata": {},
   "source": [
    "Zero order solution"
   ]
  },
  {
   "cell_type": "code",
   "execution_count": null,
   "id": "37ca0586",
   "metadata": {},
   "outputs": [],
   "source": [
    "grid_space = np.linspace(-0.5, 0.5, num=image.shape[0])\n",
    "grid2D = np.meshgrid(grid_space, grid_space)\n",
    "grid_soln = gridded_inverse_fourier_transform_nd(kspace_loc, kspace_obs,\n",
    "                                                 tuple(grid2D), 'linear')\n",
    "image_rec0 = pysap.Image(data=grid_soln)\n",
    "# image_rec0.show()\n",
    "base_ssim = ssim(image_rec0, image)\n",
    "print('The Base SSIM is : ' + str(base_ssim))"
   ]
  },
  {
   "cell_type": "markdown",
   "id": "da5ea945",
   "metadata": {},
   "source": [
    "# FISTA optimization\n",
    "We now want to refine the zero order solution using a FISTA optimization."
   ]
  },
  {
   "cell_type": "code",
   "execution_count": null,
   "id": "d3411f6e",
   "metadata": {},
   "outputs": [],
   "source": [
    "mu = 2 * 1e-7"
   ]
  },
  {
   "cell_type": "code",
   "execution_count": null,
   "id": "6b776cca",
   "metadata": {},
   "outputs": [],
   "source": [
    "linear_op = WaveletUD2(\n",
    "    wavelet_id=24,\n",
    "    nb_scale=4,\n",
    ")\n",
    "regularizer_op = SparseThreshold(Identity(), mu, thresh_type=\"soft\")\n",
    "# Setup Reconstructor\n",
    "reconstructor = SingleChannelReconstructor(\n",
    "    fourier_op=fourier_op,\n",
    "    linear_op=linear_op,\n",
    "    regularizer_op=regularizer_op,\n",
    "    gradient_formulation='synthesis',\n",
    "    verbose=1,\n",
    ")"
   ]
  },
  {
   "cell_type": "code",
   "execution_count": null,
   "id": "71009115",
   "metadata": {},
   "outputs": [],
   "source": [
    "def objective_cost(x):\n",
    "    return data_fidelity(x) + sparsity(x)\n",
    "\n",
    "def sparsity(x):\n",
    "    return mu * np.sum(np.abs(x))\n",
    "\n",
    "def data_fidelity(x):\n",
    "    return 0.5 * np.linalg.norm(fourier_op.op(x) - kspace_obs)**2"
   ]
  },
  {
   "cell_type": "code",
   "execution_count": null,
   "id": "6773049c",
   "metadata": {},
   "outputs": [],
   "source": [
    "def nrmse(x):\n",
    "    return np.linalg.norm(x - image) / np.mean(image)"
   ]
  },
  {
   "cell_type": "code",
   "execution_count": null,
   "id": "444f7e3a",
   "metadata": {},
   "outputs": [],
   "source": [
    "metrics_ = {\n",
    "    \"cost\": {\"metric\": objective_cost, \"mapping\": {\"z_new\": \"x\"}, \"cst_kwargs\": {}, \"early_stopping\": False},\n",
    "    \"nrmse\": {\"metric\": nrmse, \"mapping\": {\"x_new\": \"x\"}, \"cst_kwargs\": {}, \"early_stopping\": False},\n",
    "}"
   ]
  },
  {
   "cell_type": "code",
   "execution_count": null,
   "id": "d99fdb45",
   "metadata": {},
   "outputs": [],
   "source": [
    "opt_results = {}"
   ]
  },
  {
   "cell_type": "code",
   "execution_count": null,
   "id": "e1d70fa7",
   "metadata": {},
   "outputs": [],
   "source": [
    "x_final, costs, metrics = reconstructor.reconstruct(\n",
    "    kspace_data=kspace_obs,\n",
    "    optimization_alg='fista',\n",
    "    num_iterations=200,\n",
    "    metrics=metrics_,\n",
    "    metric_call_period=1,\n",
    ")\n",
    "image_rec = pysap.Image(data=np.abs(x_final))"
   ]
  },
  {
   "cell_type": "code",
   "execution_count": null,
   "id": "582c2037",
   "metadata": {},
   "outputs": [],
   "source": [
    "opt_results[mu] = {\n",
    "        \"nrmse\": metrics['nrmse']['values'][-1],\n",
    "        \"cost\": metrics['cost']['values'][-1],\n",
    "    }\n",
    "print(opt_results)"
   ]
  },
  {
   "cell_type": "code",
   "execution_count": null,
   "id": "7e433740",
   "metadata": {},
   "outputs": [],
   "source": [
    "params = {\n",
    "    r\"FISTA-BT\": ({}, \"black\"),\n",
    "    r\"FISTA-CD, $a = 20$\": ({\"a_cd\": 20}, \"blue\"),\n",
    "    r\"Rada-FISTA\": (\n",
    "        {\"p_lazy\": (1/30), \"q_lazy\": (1/10), \"restart_strategy\": \"adaptive\", \"xi_restart\": 0.96},\n",
    "        \"orange\",\n",
    "    ),\n",
    "    r\"greedy FISTA\": (\n",
    "        {\"restart_strategy\": \"greedy\", \"xi_restart\": 0.96, \"s_greedy\": 1.1},\n",
    "        \"violet\",\n",
    "    ),\n",
    "}\n",
    "\n",
    "res_param = {}\n",
    "for param_name, (param, _) in (params.items()):\n",
    "    x_final, costs, metrics = reconstructor.reconstruct(\n",
    "        kspace_data=kspace_obs,\n",
    "        optimization_alg='fista',\n",
    "        num_iterations=200,\n",
    "        metrics = metrics_,\n",
    "        metric_call_period=1,\n",
    "        **param,\n",
    "    )\n",
    "    res_param[param_name] = {\n",
    "        \"cost\": np.array(metrics['cost']['values']),\n",
    "        \"nrmse\": np.array(metrics['nrmse']['values']),\n",
    "    }"
   ]
  },
  {
   "cell_type": "code",
   "execution_count": null,
   "id": "35d64728",
   "metadata": {},
   "outputs": [],
   "source": [
    "metric_name = \"cost\"\n",
    "plt.figure(figsize=(9, 5))\n",
    "for param_name, param_res in res_param.items():\n",
    "    plt.plot(\n",
    "        np.log10(np.abs(np.array(param_res[metric_name] - opt_results[mu][metric_name]))),\n",
    "        label=param_name,\n",
    "        color=params[param_name][1],\n",
    "    )\n",
    "plt.legend()\n",
    "plt.title(r\"Cost evolution for different restarting strategies\")\n",
    "plt.xlabel(r\"$k$\")\n",
    "plt.ylabel(r\"$\\log_{10}($cost$(k) -$ cost$*)$\")\n",
    "plt.show()\n",
    "plt.show(block = False)"
   ]
  },
  {
   "cell_type": "code",
   "execution_count": null,
   "id": "2e26040d",
   "metadata": {
    "lines_to_next_cell": 2
   },
   "outputs": [],
   "source": [
    "\n",
    "import matplotlib.pyplot as plt\n",
    "\n",
    "# Define Data\n",
    "\n",
    "x = [1, 2, 3, 4, 5]\n",
    "y = [2, 4, 6, 8, 10]\n",
    "\n",
    "# Plot\n",
    "\n",
    "plt.plot(x, y, color='green', linewidth=3, linestyle='dotted')\n",
    "\n",
    "# Display\n",
    "\n",
    "plt.show(block=True)\n",
    "\n",
    "# Print Statement\n",
    "\n",
    "print('My First Matplotlib Program')"
   ]
  },
  {
   "cell_type": "code",
   "execution_count": null,
   "id": "39a30d12",
   "metadata": {},
   "outputs": [],
   "source": []
  }
 ],
 "metadata": {
  "kernelspec": {
   "display_name": "Python 3 (ipykernel)",
   "language": "python",
   "name": "python3"
  },
  "language_info": {
   "codemirror_mode": {
    "name": "ipython",
    "version": 3
   },
   "file_extension": ".py",
   "mimetype": "text/x-python",
   "name": "python",
   "nbconvert_exporter": "python",
   "pygments_lexer": "ipython3",
   "version": "3.10.12"
  }
 },
 "nbformat": 4,
 "nbformat_minor": 5
}
