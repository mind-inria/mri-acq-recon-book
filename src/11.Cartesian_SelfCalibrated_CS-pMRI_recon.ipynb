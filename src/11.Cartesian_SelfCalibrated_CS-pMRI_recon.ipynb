{
 "cells": [
  {
   "cell_type": "markdown",
   "id": "70cc03ae",
   "metadata": {
    "jp-MarkdownHeadingCollapsed": true
   },
   "source": [
    "\n",
    "# 11. Self-calibrated CS-pMR image reconstruction from undersampled Cartesian data In this tutorial we will reconstruct an MRI image from Cartesian undersampled kspace data.\n",
    "\n",
    "Let us denote $\\Omega$ the undersampling mask, the under-sampled Fourier transform now reads $F_{\\Omega}$.\n",
    "We use the toy datasets available in pysap, more specifically a 2D brain slice and under-sampled Cartesian acquisition over 32 channels.\n",
    "We compare zero-order image reconstruction with **self-calibrated** multi-coil Compressed sensing reconstructions (analysis vs synthesis formulation) using the FISTA algorithm for the synthesis formulation and the Condat-Vu algorithm for the analysis formulation.\n",
    "The multicoil data $(y_\\ell)_\\ell$ is collected across multiple, say $L$, channels.\n",
    "The sensitivity maps $(S_\\ell)_\\ell$ are automically calibrated from the central portion of k-space (e.g.\n",
    "5%) for all channels $\\ell=1, \\ldots, L$.\n",
    "We remind that the synthesis formulation of the non-Cartesian CS-PMRI problem reads (minimization in the sparsifying domain):\n",
    "\n",
    "$$\n",
    "\\widehat{z} = \\text{arg}\\,\\min_{z\\in C^n_\\Psi} \\frac{1}{2} \\sum_{\\ell=1}^L\\|y_\\ell - F_\\Omega S_\\ell \\Psi^*z \\|_2^2 + \\lambda \\|z\\|_1\n",
    "$$\n",
    "\n",
    "and the image solution is given by $\\widehat{x} = \\Psi^*\\widehat{z}$.\n",
    "For an orthonormal wavelet transform, we have $n_\\Psi=n$ while for a frame we may have $n_\\Psi > n$.\n",
    "while the analysis formulation consists in minimizing the following cost function (min.\n",
    "in the image domain):\n",
    "\n",
    "$$\n",
    "\\widehat{x} = \\text{arg}\\,\\min_{x\\in C^n} \\frac{1}{2} \\sum_{\\ell=1}^L \\|y_\\ell - F_\\Omega S_\\ell x\\|_2^2 + \\lambda \\|\\Psi x\\|_1 \\,.\n",
    "$$\n",
    "\n",
    "- Author: Chaithya G R & Philippe Ciuciu\n",
    "- Date: 01/06/2021, update: 02/13/2024\n",
    "- Target: ATSI MSc students, Paris-Saclay University"
   ]
  },
  {
   "cell_type": "code",
   "execution_count": null,
   "id": "16b90fb1",
   "metadata": {},
   "outputs": [],
   "source": [
    "# Package import\n",
    "from mri.operators import FFT, WaveletN\n",
    "from mri.operators.utils import convert_mask_to_locations\n",
    "from mri.reconstructors.utils.extract_sensitivity_maps \\\n",
    "    import get_Smaps, extract_k_space_center_and_locations\n",
    "from mri.reconstructors import SelfCalibrationReconstructor\n",
    "from pysap.data import get_sample_data\n",
    "\n",
    "# Third party import\n",
    "from modopt.math.metrics import ssim\n",
    "from modopt.opt.linear import Identity\n",
    "from modopt.opt.proximity import SparseThreshold\n",
    "import numpy as np\n",
    "import matplotlib.pyplot as plt"
   ]
  },
  {
   "cell_type": "markdown",
   "id": "6f70f99b",
   "metadata": {},
   "source": [
    "Loading input data\n",
    "---------------------------"
   ]
  },
  {
   "cell_type": "code",
   "execution_count": null,
   "id": "62c742c3",
   "metadata": {},
   "outputs": [],
   "source": [
    "# Loading input data\n",
    "cartesian_ref_image = get_sample_data('2d-pmri')\n",
    "image = np.linalg.norm(cartesian_ref_image, axis=0)\n",
    "# Obtain MRI cartesian mask\n",
    "mask = get_sample_data(\"cartesian-mri-mask\").data\n",
    "\n",
    "# View Input\n",
    "plt.subplot(1, 2, 1)\n",
    "plt.imshow(np.abs(image), cmap='gray')\n",
    "plt.title(\"MRI Data\")\n",
    "plt.subplot(1, 2, 2)\n",
    "plt.imshow(mask, cmap='gray')\n",
    "plt.title(\"K-space Sampling Mask\")\n",
    "plt.show()"
   ]
  },
  {
   "cell_type": "code",
   "execution_count": null,
   "id": "7ddb9936",
   "metadata": {},
   "outputs": [],
   "source": [
    "mask_sampled = np.where(mask==1)\n",
    "print(512**2/np.size(mask_sampled))"
   ]
  },
  {
   "cell_type": "markdown",
   "id": "88a7110f",
   "metadata": {},
   "source": [
    "## Generate the kspace\n",
    "\n",
    "From the 2D brain slice and the acquisition mask, we retrospectively undersample the k-space using a cartesian acquisition mask. We then reconstruct the zero order solution as a baseline\n"
   ]
  },
  {
   "cell_type": "code",
   "execution_count": null,
   "id": "3ec3c187",
   "metadata": {},
   "outputs": [],
   "source": [
    "# Get the locations of the kspace samples and the associated observations\n",
    "fourier_op = FFT(mask=mask, shape=image.shape,\n",
    "                 n_coils=cartesian_ref_image.shape[0])\n",
    "kspace_obs = fourier_op.op(cartesian_ref_image)"
   ]
  },
  {
   "cell_type": "code",
   "execution_count": null,
   "id": "d72c2f1e",
   "metadata": {},
   "outputs": [],
   "source": [
    "# Zero order solution\n",
    "zero_soln = np.linalg.norm(fourier_op.adj_op(kspace_obs), axis=0)\n",
    "base_ssim = ssim(zero_soln, image)\n",
    "plt.imshow(np.abs(zero_soln), cmap='gray')\n",
    "plt.title('Zero Order Solution : SSIM = ' + str(np.around(base_ssim, 3)))\n",
    "plt.show()"
   ]
  },
  {
   "cell_type": "code",
   "execution_count": null,
   "id": "300f1bb8",
   "metadata": {},
   "outputs": [],
   "source": [
    "# Obtain SMaps\n",
    "kspace_loc = convert_mask_to_locations(mask)\n",
    "Smaps, SOS = get_Smaps(\n",
    "    k_space=kspace_obs,\n",
    "    img_shape=fourier_op.shape,\n",
    "    samples=kspace_loc,\n",
    "    thresh=(0.01, 0.01),    # The cutoff threshold in each kspace direction\n",
    "                            # between 0 and kspace_max (0.5)\n",
    "    min_samples=kspace_loc.min(axis=0),\n",
    "    max_samples=kspace_loc.max(axis=0),\n",
    "    mode='gridding',\n",
    "    method='linear',\n",
    "    n_cpu=-1,\n",
    ")\n",
    "\n",
    "h=3;w=5;\n",
    "f, axs = plt.subplots(h,w)\n",
    "for i in range(h):\n",
    "    for j in range(w):\n",
    "        axs[i, j].imshow(np.abs(Smaps[3 * i + j]))\n",
    "        axs[i, j].axis('off')\n",
    "plt.subplots_adjust(wspace=0,hspace=0)\n",
    "plt.show()"
   ]
  },
  {
   "cell_type": "code",
   "execution_count": null,
   "id": "7e7f36c5",
   "metadata": {},
   "outputs": [],
   "source": [
    "# Setup Fourier Operator with SENSE. This would initialize the\n",
    "# fourier operators in the GPU.\n",
    "# For this we need to specify the implementation as gpuNUFFT\n",
    "# and also pass the Smaps calculated above\n",
    "fourier_implementation = 'cpu'\n",
    "#fourier_implementation = 'gpuNUFFT'\n",
    "\n",
    "fourier_op_sense = NonCartesianFFT(\n",
    "    samples=kspace_loc,\n",
    "    shape=image.shape,\n",
    "    n_coils=cartesian_ref_image.shape[0],\n",
    "    smaps=Smaps,\n",
    "    implementation=fourier_implementation,\n",
    ")"
   ]
  },
  {
   "cell_type": "markdown",
   "id": "784f98da",
   "metadata": {},
   "source": [
    "## FISTA optimization\n",
    "\n",
    "We now want to refine the zero order solution using a FISTA optimization.\n",
    "The cost function is set to Proximity Cost + Gradient Cost\n"
   ]
  },
  {
   "cell_type": "code",
   "execution_count": null,
   "id": "d3faaa65",
   "metadata": {},
   "outputs": [],
   "source": [
    "# Setup the operators\n",
    "linear_op = WaveletN(\n",
    "    wavelet_name='sym8',\n",
    "    nb_scale=4,\n",
    ")\n",
    "regularizer_op = SparseThreshold(Identity(), 1.5e-8, thresh_type=\"soft\")"
   ]
  },
  {
   "cell_type": "code",
   "execution_count": null,
   "id": "198bab04",
   "metadata": {},
   "outputs": [],
   "source": [
    "# Setup Reconstructor\n",
    "reconstructor = SelfCalibrationReconstructor(\n",
    "    fourier_op=fourier_op,\n",
    "    linear_op=linear_op,\n",
    "    regularizer_op=regularizer_op,\n",
    "    gradient_formulation='synthesis',\n",
    "    kspace_portion=0.01,\n",
    "    verbose=1,\n",
    ")"
   ]
  },
  {
   "cell_type": "code",
   "execution_count": null,
   "id": "1a3eb2bb",
   "metadata": {},
   "outputs": [],
   "source": [
    "image_rec, costs, metrics = reconstructor.reconstruct(\n",
    "    kspace_data=kspace_obs,\n",
    "    optimization_alg='fista',\n",
    "    num_iterations=200,\n",
    ")\n",
    "recon_ssim = ssim(image_rec, image)\n",
    "plt.imshow(np.abs(image_rec), cmap='gray')\n",
    "plt.title('Iterative FISTA Reconstruction : SSIM = ' + str(np.around(recon_ssim, 3)))\n",
    "plt.show()"
   ]
  },
  {
   "cell_type": "markdown",
   "id": "a32d6f02",
   "metadata": {},
   "source": [
    "## POGM reconstruction"
   ]
  },
  {
   "cell_type": "code",
   "execution_count": null,
   "id": "408d2d7d",
   "metadata": {},
   "outputs": [],
   "source": [
    "image_rec2, costs, metrics = reconstructor.reconstruct(\n",
    "    kspace_data=kspace_obs,\n",
    "    optimization_alg='fista',\n",
    "    num_iterations=200,\n",
    ")\n",
    "recon2_ssim = ssim(image_rec2, image)\n",
    "plt.imshow(np.abs(image_rec2), cmap='gray')\n",
    "plt.title('Iterative POGM Reconstruction : SSIM = ' + str(np.around(recon2_ssim, 3)))\n",
    "plt.show()"
   ]
  },
  {
   "cell_type": "code",
   "execution_count": null,
   "id": "e31da641",
   "metadata": {},
   "outputs": [],
   "source": [
    "#linear_op = WaveletN(wavelet_name=\"sym8\", nb_scales=4)\n",
    "linear_op = WaveletUD2(\n",
    "    wavelet_id=24,\n",
    "    nb_scale=4,\n",
    ")\n",
    "regularizer_op = SparseThreshold(Identity(), 4e-7, thresh_type=\"soft\")"
   ]
  },
  {
   "cell_type": "code",
   "execution_count": null,
   "id": "8265f8e5",
   "metadata": {},
   "outputs": [],
   "source": [
    "# Setup Reconstructor\n",
    "reconstructor = SelfCalibrationReconstructor(\n",
    "    fourier_op=fourier_op_sense,\n",
    "    linear_op=linear_op,\n",
    "    regularizer_op=regularizer_op,\n",
    "    gradient_formulation='analysis',\n",
    "    verbose=1,\n",
    ")"
   ]
  },
  {
   "cell_type": "code",
   "execution_count": null,
   "id": "44b173c7",
   "metadata": {},
   "outputs": [],
   "source": [
    "x_final, costs, metrics = reconstructor.reconstruct(\n",
    "    kspace_data=kspace_obs,\n",
    "    optimization_alg='condatvu',\n",
    "    num_iterations=200,\n",
    ")\n",
    "image_rec = pysap.Image(data=np.abs(x_final))\n",
    "plt.imshow(np.abs(image_rec), cmap='gray')\n",
    "recon_ssim = ssim(image_rec, image)\n",
    "plt.title('Condat-Vu Reconstruction\\nSSIM = {}'.format(recon_ssim))\n",
    "plt.show()"
   ]
  }
 ],
 "metadata": {
  "kernelspec": {
   "display_name": "Python 3 (ipykernel)",
   "language": "python",
   "name": "python3"
  },
  "language_info": {
   "codemirror_mode": {
    "name": "ipython",
    "version": 3
   },
   "file_extension": ".py",
   "mimetype": "text/x-python",
   "name": "python",
   "nbconvert_exporter": "python",
   "pygments_lexer": "ipython3",
   "version": "3.10.12"
  }
 },
 "nbformat": 4,
 "nbformat_minor": 5
}
